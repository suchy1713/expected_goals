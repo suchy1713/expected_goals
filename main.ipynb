{
  "nbformat": 4,
  "nbformat_minor": 0,
  "metadata": {
    "colab": {
      "name": "Untitled5.ipynb",
      "provenance": [],
      "authorship_tag": "ABX9TyM1cF6dqim7Sdgc5Gcu+0+M",
      "include_colab_link": true
    },
    "kernelspec": {
      "name": "python3",
      "display_name": "Python 3"
    },
    "accelerator": "GPU"
  },
  "cells": [
    {
      "cell_type": "markdown",
      "metadata": {
        "id": "view-in-github",
        "colab_type": "text"
      },
      "source": [
        "<a href=\"https://colab.research.google.com/github/suchy1713/expected_goals/blob/master/main.ipynb\" target=\"_parent\"><img src=\"https://colab.research.google.com/assets/colab-badge.svg\" alt=\"Open In Colab\"/></a>"
      ]
    },
    {
      "cell_type": "code",
      "metadata": {
        "id": "fQKkl-OqN-z-",
        "colab_type": "code",
        "colab": {}
      },
      "source": [
        "import pandas as pd\n",
        "import numpy as np\n",
        "\n",
        "df = pd.read_csv('https://raw.githubusercontent.com/suchy1713/expected_goals/master/data.csv')\n",
        "X = df.drop(['is_goal'], axis=1).values\n",
        "y = df['is_goal'].values\n",
        "data = df.values"
      ],
      "execution_count": 0,
      "outputs": []
    },
    {
      "cell_type": "code",
      "metadata": {
        "id": "qdBfm3PWYSLx",
        "colab_type": "code",
        "outputId": "12fd178e-c873-47c5-f4f0-9c4cdf259537",
        "colab": {
          "base_uri": "https://localhost:8080/",
          "height": 920
        }
      },
      "source": [
        "import xgboost as xgb\n",
        "from genetuning import GeneTuning, Param\n",
        "\n",
        "brain = xgb.XGBClassifier()\n",
        "params = dict(max_depth=Param(3, 8, step=2), \n",
        "              min_child_weight=Param(1, 8), \n",
        "              subsample=Param(0.5, 1, round_=2, is_integer=False), \n",
        "              colsample_bytree=Param(0.5, 1, round_=2, is_integer=False), \n",
        "              learning_rate=Param(0.01, 0.3, round_=3, is_integer=False),\n",
        "              n_estimators=Param(50, 400, step=50))\n",
        "\n",
        "gt = GeneTuning(brain, params, parents_num=4, children_num=4, population_size_init=20)\n",
        "gt.fit(X, y)\n",
        "print('\\n\\nACCURACY: ', gt.best_score)\n",
        "print('BEST PARAMS:', gt.best_params)"
      ],
      "execution_count": 0,
      "outputs": [
        {
          "output_type": "stream",
          "text": [
            "Generation  1 / 4 :\n",
            "Fitting model 1 / 20 :  {'max_depth': 7, 'min_child_weight': 2, 'subsample': 0.95, 'colsample_bytree': 0.76, 'learning_rate': 0.067, 'n_estimators': 100}  : 0.9099984627885016\n",
            "Fitting model 2 / 20 :  {'max_depth': 5, 'min_child_weight': 3, 'subsample': 0.86, 'colsample_bytree': 0.8, 'learning_rate': 0.162, 'n_estimators': 300}  : 0.9099237982300108\n",
            "Fitting model 3 / 20 :  {'max_depth': 7, 'min_child_weight': 7, 'subsample': 0.65, 'colsample_bytree': 0.83, 'learning_rate': 0.157, 'n_estimators': 200}  : 0.9099896787227969\n",
            "Fitting model 4 / 20 :  {'max_depth': 7, 'min_child_weight': 2, 'subsample': 0.57, 'colsample_bytree': 0.96, 'learning_rate': 0.166, 'n_estimators': 350}  : 0.9100072468542064\n",
            "Fitting model 5 / 20 :  {'max_depth': 3, 'min_child_weight': 6, 'subsample': 0.64, 'colsample_bytree': 0.53, 'learning_rate': 0.299, 'n_estimators': 50}  : 0.9099633265256826\n",
            "Fitting model 6 / 20 :  {'max_depth': 5, 'min_child_weight': 4, 'subsample': 0.92, 'colsample_bytree': 0.97, 'learning_rate': 0.018, 'n_estimators': 300}  : 0.9099237982300107\n",
            "Fitting model 7 / 20 :  {'max_depth': 3, 'min_child_weight': 1, 'subsample': 0.95, 'colsample_bytree': 0.92, 'learning_rate': 0.116, 'n_estimators': 50}  : 0.9093484419263456\n",
            "Fitting model 8 / 20 :  {'max_depth': 5, 'min_child_weight': 7, 'subsample': 0.79, 'colsample_bytree': 0.94, 'learning_rate': 0.142, 'n_estimators': 100}  : 0.9099237982300107\n",
            "Fitting model 9 / 20 :  {'max_depth': 7, 'min_child_weight': 5, 'subsample': 0.78, 'colsample_bytree': 0.97, 'learning_rate': 0.154, 'n_estimators': 100}  : 0.9099852866899445\n",
            "Fitting model 10 / 20 :  {'max_depth': 7, 'min_child_weight': 6, 'subsample': 0.54, 'colsample_bytree': 0.79, 'learning_rate': 0.27, 'n_estimators': 50}  : 0.9099501504271252\n",
            "Fitting model 11 / 20 :  {'max_depth': 3, 'min_child_weight': 1, 'subsample': 0.8, 'colsample_bytree': 0.66, 'learning_rate': 0.212, 'n_estimators': 350}  : 0.9098754858686343\n",
            "Fitting model 12 / 20 :  {'max_depth': 3, 'min_child_weight': 6, 'subsample': 0.79, 'colsample_bytree': 0.93, 'learning_rate': 0.017, 'n_estimators': 100}  : 0.9054922370819334\n",
            "Fitting model 13 / 20 :  {'max_depth': 5, 'min_child_weight': 4, 'subsample': 0.57, 'colsample_bytree': 0.53, 'learning_rate': 0.057, 'n_estimators': 150}  : 0.9098710938357819\n",
            "Fitting model 14 / 20 :  {'max_depth': 3, 'min_child_weight': 2, 'subsample': 0.99, 'colsample_bytree': 0.67, 'learning_rate': 0.155, 'n_estimators': 150}  : 0.9098271735072577\n",
            "Fitting model 15 / 20 :  {'max_depth': 5, 'min_child_weight': 7, 'subsample': 0.63, 'colsample_bytree': 0.59, 'learning_rate': 0.015, 'n_estimators': 50}  : 0.9072754024200101\n",
            "Fitting model 16 / 20 :  {'max_depth': 3, 'min_child_weight': 7, 'subsample': 0.86, 'colsample_bytree': 0.51, 'learning_rate': 0.3, 'n_estimators': 50}  : 0.90995893449283\n",
            "Fitting model 17 / 20 :  {'max_depth': 7, 'min_child_weight': 7, 'subsample': 0.68, 'colsample_bytree': 0.58, 'learning_rate': 0.021, 'n_estimators': 100}  : 0.9087291652941565\n",
            "Fitting model 18 / 20 :  {'max_depth': 3, 'min_child_weight': 7, 'subsample': 0.58, 'colsample_bytree': 0.54, 'learning_rate': 0.139, 'n_estimators': 350}  : 0.9099194061971584\n",
            "Fitting model 19 / 20 :  {'max_depth': 5, 'min_child_weight': 6, 'subsample': 0.9, 'colsample_bytree': 0.8, 'learning_rate': 0.206, 'n_estimators': 300}  : 0.9099984627885018\n",
            "Fitting model 20 / 20 :  {'max_depth': 5, 'min_child_weight': 5, 'subsample': 0.56, 'colsample_bytree': 0.72, 'learning_rate': 0.214, 'n_estimators': 200}  : 0.9099237982300108\n",
            "Generation  2 / 4 :\n",
            "Fitting model 1 / 8 :  {'max_depth': 7, 'min_child_weight': 2, 'subsample': 0.57, 'colsample_bytree': 0.85, 'learning_rate': 0.206, 'n_estimators': 300}  : 0.9099281902628633\n",
            "Fitting model 2 / 8 :  {'max_depth': 5, 'min_child_weight': 6, 'subsample': 0.9, 'colsample_bytree': 0.83, 'learning_rate': 0.067, 'n_estimators': 100}  : 0.9099721105913872\n",
            "Fitting model 3 / 8 :  {'max_depth': 7, 'min_child_weight': 7, 'subsample': 0.95, 'colsample_bytree': 0.83, 'learning_rate': 0.157, 'n_estimators': 200}  : 0.9099984627885016\n",
            "Fitting model 4 / 8 :  {'max_depth': 5, 'min_child_weight': 7, 'subsample': 0.65, 'colsample_bytree': 0.96, 'learning_rate': 0.166, 'n_estimators': 350}  : 0.9099721105913872\n",
            "Fitting model 5 / 8 :  {'max_depth': 7, 'min_child_weight': 2, 'subsample': 0.57, 'colsample_bytree': 0.96, 'learning_rate': 0.166, 'n_estimators': 350}  : 0.9100072468542064\n",
            "Fitting model 6 / 8 :  {'max_depth': 5, 'min_child_weight': 6, 'subsample': 0.9, 'colsample_bytree': 0.8, 'learning_rate': 0.206, 'n_estimators': 300}  : 0.9099984627885018\n",
            "Fitting model 7 / 8 :  {'max_depth': 7, 'min_child_weight': 2, 'subsample': 0.95, 'colsample_bytree': 0.76, 'learning_rate': 0.067, 'n_estimators': 100}  : 0.9099984627885016\n",
            "Fitting model 8 / 8 :  {'max_depth': 7, 'min_child_weight': 7, 'subsample': 0.65, 'colsample_bytree': 0.83, 'learning_rate': 0.157, 'n_estimators': 200}  : 0.9099896787227969\n",
            "Generation  3 / 4 :\n",
            "Fitting model 1 / 8 :  {'max_depth': 7, 'min_child_weight': 2, 'subsample': 0.73, 'colsample_bytree': 0.8, 'learning_rate': 0.206, 'n_estimators': 300}  : 0.9099984627885018\n",
            "Fitting model 2 / 8 :  {'max_depth': 5, 'min_child_weight': 6, 'subsample': 0.9, 'colsample_bytree': 0.83, 'learning_rate': 0.157, 'n_estimators': 200}  : 0.9099413663614204\n",
            "Fitting model 3 / 8 :  {'max_depth': 7, 'min_child_weight': 7, 'subsample': 0.95, 'colsample_bytree': 0.76, 'learning_rate': 0.119, 'n_estimators': 100}  : 0.9099984627885018\n",
            "Fitting model 4 / 8 :  {'max_depth': 7, 'min_child_weight': 2, 'subsample': 0.95, 'colsample_bytree': 0.96, 'learning_rate': 0.166, 'n_estimators': 50}  : 0.9099852866899443\n",
            "Fitting model 5 / 8 :  {'max_depth': 7, 'min_child_weight': 2, 'subsample': 0.57, 'colsample_bytree': 0.96, 'learning_rate': 0.166, 'n_estimators': 350}  : 0.9100072468542064\n",
            "Fitting model 6 / 8 :  {'max_depth': 5, 'min_child_weight': 6, 'subsample': 0.9, 'colsample_bytree': 0.8, 'learning_rate': 0.206, 'n_estimators': 300}  : 0.9099984627885018\n",
            "Fitting model 7 / 8 :  {'max_depth': 7, 'min_child_weight': 7, 'subsample': 0.95, 'colsample_bytree': 0.83, 'learning_rate': 0.157, 'n_estimators': 200}  : 0.9099984627885016\n",
            "Fitting model 8 / 8 :  {'max_depth': 7, 'min_child_weight': 2, 'subsample': 0.95, 'colsample_bytree': 0.76, 'learning_rate': 0.067, 'n_estimators': 100}  : 0.9099984627885016\n",
            "Generation  4 / 4 :\n",
            "Fitting model 1 / 8 :  {'max_depth': 7, 'min_child_weight': 1, 'subsample': 0.57, 'colsample_bytree': 0.8, 'learning_rate': 0.206, 'n_estimators': 300}  : 0.9099281902628631\n",
            "Fitting model 2 / 8 :  {'max_depth': 7, 'min_child_weight': 2, 'subsample': 0.73, 'colsample_bytree': 0.76, 'learning_rate': 0.119, 'n_estimators': 100}  : 0.9099984627885016\n",
            "Fitting model 3 / 8 :  {'max_depth': 7, 'min_child_weight': 4, 'subsample': 0.95, 'colsample_bytree': 0.8, 'learning_rate': 0.206, 'n_estimators': 300}  : 0.9099765026242397\n",
            "Fitting model 4 / 8 :  {'max_depth': 3, 'min_child_weight': 6, 'subsample': 0.9, 'colsample_bytree': 0.96, 'learning_rate': 0.166, 'n_estimators': 350}  : 0.9098139974087006\n",
            "Fitting model 5 / 8 :  {'max_depth': 7, 'min_child_weight': 2, 'subsample': 0.57, 'colsample_bytree': 0.96, 'learning_rate': 0.166, 'n_estimators': 350}  : 0.9100072468542064\n",
            "Fitting model 6 / 8 :  {'max_depth': 7, 'min_child_weight': 2, 'subsample': 0.73, 'colsample_bytree': 0.8, 'learning_rate': 0.206, 'n_estimators': 300}  : 0.9099984627885018\n",
            "Fitting model 7 / 8 :  {'max_depth': 7, 'min_child_weight': 7, 'subsample': 0.95, 'colsample_bytree': 0.76, 'learning_rate': 0.119, 'n_estimators': 100}  : 0.9099984627885018\n",
            "Fitting model 8 / 8 :  {'max_depth': 5, 'min_child_weight': 6, 'subsample': 0.9, 'colsample_bytree': 0.8, 'learning_rate': 0.206, 'n_estimators': 300}  : 0.9099984627885018\n",
            "\n",
            "\n",
            "ACCURACY:  0.9100072468542064\n",
            "BEST PARAMS: {'max_depth': 5, 'min_child_weight': 5, 'subsample': 0.56, 'colsample_bytree': 0.72, 'learning_rate': 0.214, 'n_estimators': 200}\n"
          ],
          "name": "stdout"
        }
      ]
    }
  ]
}